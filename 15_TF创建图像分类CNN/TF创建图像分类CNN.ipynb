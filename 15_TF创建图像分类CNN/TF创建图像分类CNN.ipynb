{
 "cells": [
  {
   "cell_type": "markdown",
   "metadata": {},
   "source": [
    "# TF创建并训练CNN来进行图像分类"
   ]
  },
  {
   "cell_type": "raw",
   "metadata": {},
   "source": [
    "* 实现一些工具函数\n",
    "* 利用这些函数构建一个功能完整的CNN"
   ]
  },
  {
   "cell_type": "code",
   "execution_count": 1,
   "metadata": {},
   "outputs": [],
   "source": [
    "import math\n",
    "import numpy as np\n",
    "import h5py\n",
    "import matplotlib.pyplot as plt\n",
    "import scipy\n",
    "from PIL import Image\n",
    "from scipy import ndimage\n",
    "import tensorflow as tf\n",
    "from tensorflow.python.framework import ops\n",
    "from cnn_utils import *\n",
    "\n",
    "%matplotlib inline\n",
    "np.random.seed(1)"
   ]
  },
  {
   "cell_type": "code",
   "execution_count": 2,
   "metadata": {},
   "outputs": [],
   "source": [
    "X_train_orig, Y_train_orig, X_test_orig, Y_test_orig, classes = load_dataset()"
   ]
  },
  {
   "cell_type": "code",
   "execution_count": 3,
   "metadata": {},
   "outputs": [
    {
     "name": "stdout",
     "output_type": "stream",
     "text": [
      "y = 2\n"
     ]
    },
    {
     "data": {
      "image/png": "[encoded data removed]",
      "text/plain": [
       "<Figure size 432x288 with 1 Axes>"
      ]
     },
     "metadata": {
      "needs_background": "light"
     },
     "output_type": "display_data"
    }
   ],
   "source": [
    "index = 10\n",
    "plt.imshow(X_train_orig[index])\n",
    "print (\"y = \" + str(np.squeeze(Y_train_orig[:, index])))"
   ]
  },
  {
   "cell_type": "raw",
   "metadata": {},
   "source": [
    "第2章的时候，使用上面的数据集构建了一个全链接神经网络。因为这些数据是图片，应该使用CNN，因为只要提到只能视觉，就应该想到CNN"
   ]
  },
  {
   "cell_type": "raw",
   "metadata": {},
   "source": [
    "编程中常常出现因为维度错乱而导致bug，一旦出现这种问题就不好解决了，所以会把很多地方的维度打印出来，即可防止出现维度错乱，又可以在出现bug时排查"
   ]
  },
  {
   "cell_type": "code",
   "execution_count": 4,
   "metadata": {},
   "outputs": [
    {
     "name": "stdout",
     "output_type": "stream",
     "text": [
      "训练样本数 = 1080\n",
      "测试样本数 = 120\n",
      "X_train的维度: (1080, 64, 64, 3)\n",
      "Y_train的维度: (1080, 6)\n",
      "X_test的维度: (120, 64, 64, 3)\n",
      "Y_test的维度: (120, 6)\n"
     ]
    }
   ],
   "source": [
    "X_train = X_train_orig/255.\n",
    "X_test = X_test_orig/255.\n",
    "Y_train = convert_to_one_hot(Y_train_orig, 6).T\n",
    "Y_test = convert_to_one_hot(Y_test_orig, 6).T\n",
    "print (\"训练样本数 = \" + str(X_train.shape[0]))\n",
    "print (\"测试样本数 = \" + str(X_test.shape[0]))\n",
    "print (\"X_train的维度: \" + str(X_train.shape))\n",
    "print (\"Y_train的维度: \" + str(Y_train.shape))\n",
    "print (\"X_test的维度: \" + str(X_test.shape))\n",
    "print (\"Y_test的维度: \" + str(Y_test.shape))\n",
    "conv_layers = {}"
   ]
  },
  {
   "cell_type": "markdown",
   "metadata": {},
   "source": [
    "## 创建占位符（placeholder）"
   ]
  },
  {
   "cell_type": "raw",
   "metadata": {},
   "source": [
    "要使用Tensorflow,首先要为训练数据准备好占位符，之后在运行tensorflow session时，就可以把数据填充到占位符中供Tensorflow使用"
   ]
  },
  {
   "cell_type": "code",
   "execution_count": 5,
   "metadata": {},
   "outputs": [],
   "source": [
    "def create_placeholders(n_H0, n_W0, n_C0, n_y):\n",
    "    \"\"\"\n",
    "    参数：\n",
    "    n_H0 -- 图像矩阵的高\n",
    "    n_W0 -- 图像矩阵的宽\n",
    "    n_C0 -- 图像矩阵的深度\n",
    "    n_y -- 标签类别数量，我们的数据集时0到5的手势，所以有6个类别\n",
    "    \n",
    "    返回值：\n",
    "    X -- 样本数据的占位符\n",
    "    Y -- 标签的占位符\n",
    "    \"\"\"\n",
    "    \n",
    "    #下面使用None来表示样本数量，表示当前还不确定样本数量\n",
    "    X = tf.placeholder(tf.float32, [None, n_H0, n_W0, n_C0])\n",
    "    Y = tf.placeholder(tf.float32, [None, n_y])\n",
    "    \n",
    "    return X, Y"
   ]
  },
  {
   "cell_type": "code",
   "execution_count": 6,
   "metadata": {},
   "outputs": [
    {
     "name": "stdout",
     "output_type": "stream",
     "text": [
      "X =Tensor(\"Placeholder:0\", shape=(?, 64, 64, 3), dtype=float32)\n",
      "Y =Tensor(\"Placeholder_1:0\", shape=(?, 6), dtype=float32)\n"
     ]
    }
   ],
   "source": [
    "#单元测试\n",
    "X, Y = create_placeholders(64,64,3,6)\n",
    "print('X =' + str(X))\n",
    "print('Y =' + str(Y))"
   ]
  },
  {
   "cell_type": "markdown",
   "metadata": {},
   "source": [
    "### 初始化参数"
   ]
  },
  {
   "cell_type": "code",
   "execution_count": 7,
   "metadata": {},
   "outputs": [],
   "source": [
    "def initialize_parameters():\n",
    "    \n",
    "    tf.set_random_seed(1)\n",
    "    \n",
    "    #使用`tf.contrib.layers.xavier_initializer(seed = 0)`来初始化W1。\n",
    "    #W1的维度时[4， 4，3，8]表示第一个卷积层过滤器矩阵的[高，宽，深度，个数]\n",
    "    W1 = tf.get_variable('W1', [4, 4, 3, 8], initializer = tf.contrib.layers.xavier_initializer(seed = 0))\n",
    "    \n",
    "    W2 = tf.get_variable('W2', [2, 2, 8, 16], initializer = tf.contrib.layers.xavier_initializer(seed = 0))\n",
    "    \n",
    "    #注意，不初始化阈值b和全连接层的相关参数，因为TF会自动初始化它们\n",
    "    \n",
    "    parameters = {'W1' : W1, 'W2' : W2}\n",
    "    \n",
    "    return parameters"
   ]
  },
  {
   "cell_type": "code",
   "execution_count": 8,
   "metadata": {},
   "outputs": [
    {
     "name": "stdout",
     "output_type": "stream",
     "text": [
      "WARNING:tensorflow:\n",
      "The TensorFlow contrib module will not be included in TensorFlow 2.0.\n",
      "For more information, please see:\n",
      "  * https://github.com/tensorflow/community/blob/master/rfcs/20180907-contrib-sunset.md\n",
      "  * https://github.com/tensorflow/addons\n",
      "  * https://github.com/tensorflow/io (for I/O related ops)\n",
      "If you depend on functionality not listed there, please file an issue.\n",
      "\n",
      "W1 = [ 0.00131723  0.1417614  -0.04434952  0.09197326  0.14984085 -0.03514394\n",
      " -0.06847463  0.05245192]\n",
      "W2 = [-0.08566415  0.17750949  0.11974221  0.16773748 -0.0830943  -0.08058\n",
      " -0.00577033 -0.14643836  0.24162132 -0.05857408 -0.19055021  0.1345228\n",
      " -0.22779644 -0.1601823  -0.16117483 -0.10286498]\n"
     ]
    }
   ],
   "source": [
    "tf.reset_default_graph()\n",
    "with tf.Session() as sess_test:\n",
    "    parameters = initialize_parameters()\n",
    "    init = tf.global_variables_initializer()\n",
    "    sess_test.run(init)\n",
    "    print(\"W1 = \" + str(parameters[\"W1\"].eval()[1,1,1]))\n",
    "    print(\"W2 = \" + str(parameters[\"W2\"].eval()[1,1,1]))"
   ]
  },
  {
   "cell_type": "code",
   "execution_count": 9,
   "metadata": {
    "scrolled": true
   },
   "outputs": [
    {
     "name": "stdout",
     "output_type": "stream",
     "text": [
      "W1 = [[[[ 0.11547081 -0.15562162  0.14463945 -0.12213563 -0.161331\n",
      "     0.0167321   0.00137798  0.15687598]\n",
      "   [ 0.06261188  0.15809353 -0.13944083  0.1304368   0.14947264\n",
      "     0.07770665 -0.0344099   0.02789916]\n",
      "   [ 0.1310067   0.03547595  0.1019934   0.17467071 -0.16157703\n",
      "    -0.06069881 -0.10278072 -0.06633689]]\n",
      "\n",
      "  [[-0.1701455  -0.15981087 -0.06383926 -0.00349012 -0.14234345\n",
      "    -0.05761932  0.00821769 -0.07173218]\n",
      "   [ 0.14097519  0.11141728  0.18437327  0.0588678  -0.13764857\n",
      "    -0.11404216  0.05882488  0.09655331]\n",
      "   [ 0.09364428 -0.03100704  0.16560768  0.14417745  0.15409656\n",
      "    -0.08602516 -0.12028332 -0.16772161]]\n",
      "\n",
      "  [[ 0.18019755 -0.17030357 -0.10018802 -0.18330556  0.03716455\n",
      "    -0.09169444 -0.01606575 -0.10697315]\n",
      "   [-0.1352132   0.04067522  0.07451691  0.02565144 -0.08935398\n",
      "    -0.14955646  0.17125843 -0.10636543]\n",
      "   [ 0.1641133  -0.16645104  0.14331098 -0.0984499  -0.02071032\n",
      "    -0.13608913  0.15722917 -0.05736801]]\n",
      "\n",
      "  [[ 0.18048044  0.12755601  0.09927674 -0.07896702 -0.01106757\n",
      "     0.12510462  0.10254164 -0.0530639 ]\n",
      "   [ 0.09258421 -0.04108836 -0.05156758 -0.18287908 -0.1201285\n",
      "     0.18191533 -0.09046397 -0.06246264]\n",
      "   [ 0.0652394  -0.15792422 -0.1635998   0.17045619 -0.01177415\n",
      "     0.05414602  0.16976361  0.1313066 ]]]\n",
      "\n",
      "\n",
      " [[[-0.1276688  -0.0151097   0.09537239 -0.09044442  0.1176459\n",
      "    -0.08076607  0.1509314   0.06640787]\n",
      "   [ 0.03119117  0.11769979  0.1076581  -0.01755811 -0.12652452\n",
      "    -0.08751073  0.0767848  -0.08363672]\n",
      "   [-0.07881     0.12069152  0.05915618 -0.10101575 -0.01375258\n",
      "     0.09362705 -0.02805306 -0.09040824]]\n",
      "\n",
      "  [[ 0.16443549 -0.09292883  0.05716194  0.08276136  0.11203139\n",
      "     0.06421891 -0.00729965  0.13727976]\n",
      "   [ 0.00131723  0.1417614  -0.04434952  0.09197326  0.14984085\n",
      "    -0.03514394 -0.06847463  0.05245192]\n",
      "   [ 0.17308395 -0.07463694 -0.1627092   0.15460996 -0.08179158\n",
      "    -0.13378257  0.00564247  0.16062535]]\n",
      "\n",
      "  [[ 0.13059764 -0.00192186 -0.11307718 -0.18133381 -0.05553304\n",
      "     0.02143283 -0.11456852  0.0528446 ]\n",
      "   [-0.09188157 -0.00452077 -0.01033492 -0.087416   -0.01735702\n",
      "     0.02977444  0.00052984  0.00983675]\n",
      "   [-0.15542524 -0.01869164  0.03142871 -0.05312751  0.16560926\n",
      "    -0.09097554  0.08132382 -0.14448032]]\n",
      "\n",
      "  [[ 0.08929332 -0.17300954 -0.0014689  -0.17412269 -0.01236047\n",
      "     0.0417559   0.04234362  0.02787495]\n",
      "   [ 0.14712255 -0.16533229 -0.12082531  0.05418657 -0.01176724\n",
      "     0.01966397 -0.11076181  0.05106527]\n",
      "   [ 0.08188905 -0.10437318 -0.03012811  0.11816578 -0.1605425\n",
      "     0.1754932   0.14070319 -0.12122801]]]\n",
      "\n",
      "\n",
      " [[[-0.10985722  0.00432044  0.00896505 -0.0881089  -0.08848276\n",
      "     0.00863551  0.15536223  0.05154584]\n",
      "   [-0.05037339  0.09931098 -0.17829435  0.01767568 -0.08340865\n",
      "    -0.06263054  0.01612224  0.16876729]\n",
      "   [-0.1194736   0.11054228 -0.11331978  0.09310131 -0.10664946\n",
      "     0.13256015 -0.06946554 -0.11520903]]\n",
      "\n",
      "  [[ 0.16194074 -0.14686722 -0.12353867 -0.15883712  0.06531674\n",
      "     0.01186568 -0.08830131 -0.1453381 ]\n",
      "   [-0.11682992  0.1258529  -0.16491483  0.11780094 -0.06159177\n",
      "    -0.09904815 -0.16852126  0.07559638]\n",
      "   [-0.1770666   0.03841008  0.06194262  0.13051493 -0.04662523\n",
      "     0.10323875  0.04866305  0.09327753]]\n",
      "\n",
      "  [[-0.08677699  0.13345896  0.14411353  0.07402633  0.17853673\n",
      "    -0.17118461  0.13299449  0.04484366]\n",
      "   [-0.0477975   0.03531374  0.00538918  0.05524488  0.13791884\n",
      "     0.05704719  0.10665409  0.01218429]\n",
      "   [-0.02445702  0.09296604 -0.02939983 -0.07282878 -0.09431875\n",
      "     0.07386138  0.08730365 -0.13300917]]\n",
      "\n",
      "  [[-0.11411674 -0.12772955  0.12570257 -0.0296371  -0.14701442\n",
      "     0.1293747   0.07933183  0.01307277]\n",
      "   [ 0.05453169  0.03466724  0.15829597  0.14806415  0.13052414\n",
      "     0.18101163  0.1082833   0.14259486]\n",
      "   [-0.09484331 -0.09866115  0.10171987 -0.09913518  0.04908362\n",
      "    -0.11938292  0.13852538  0.06013463]]]\n",
      "\n",
      "\n",
      " [[[ 0.04723395  0.12427522  0.13143836  0.01017329 -0.06754398\n",
      "     0.07398213  0.09188254 -0.04818894]\n",
      "   [ 0.12729175 -0.04897885 -0.08968189  0.10791881 -0.03634022\n",
      "     0.01406936  0.06535503  0.06877695]\n",
      "   [-0.15827248  0.11055781  0.09597807 -0.0635449  -0.11517187\n",
      "    -0.14547585 -0.03765407  0.11134703]]\n",
      "\n",
      "  [[-0.15231502  0.14108427 -0.04393423  0.1197993   0.04059035\n",
      "    -0.12795182  0.05467723  0.17338474]\n",
      "   [ 0.13689046 -0.01458083  0.10258235 -0.00747211 -0.17994192\n",
      "    -0.15795825 -0.1545277  -0.05960114]\n",
      "   [-0.01873805 -0.0986744  -0.03393377 -0.13624606  0.07541598\n",
      "    -0.00854653 -0.0889894  -0.02335989]]\n",
      "\n",
      "  [[ 0.11911012 -0.18236025  0.03056322 -0.16970247 -0.09283181\n",
      "     0.01669209  0.12650074 -0.12198777]\n",
      "   [ 0.04790117 -0.12337236  0.17987971 -0.13652207  0.1565762\n",
      "    -0.14924584 -0.00282751  0.08280452]\n",
      "   [-0.04915185  0.13603546  0.07698585 -0.13521378 -0.14091624\n",
      "    -0.18266377 -0.16046709 -0.11843611]]\n",
      "\n",
      "  [[-0.0050036  -0.11442259  0.0118302  -0.06936064  0.1735499\n",
      "    -0.07373526  0.17584409 -0.06918319]\n",
      "   [ 0.16454048 -0.1698395  -0.0988445   0.01970342  0.1596723\n",
      "    -0.07270284  0.03040822  0.02601132]\n",
      "   [-0.00218067 -0.04939128 -0.11902361 -0.1844188  -0.16679502\n",
      "     0.03561163 -0.01817229 -0.17090265]]]]\n",
      "W2 = [[[[ 0.15634823 -0.21071267  0.19584274 -0.16537243 -0.21844321\n",
      "     0.02265537  0.0018658   0.2124111   0.08477688  0.21405965\n",
      "    -0.18880379  0.17661226  0.20238692  0.10521531 -0.04659122\n",
      "     0.03777564]\n",
      "   [ 0.1773839   0.04803467  0.13809973  0.23650527 -0.21877635\n",
      "    -0.08218658 -0.13916576 -0.08982056 -0.23037809 -0.21638495\n",
      "    -0.08643878 -0.00472564 -0.19273394 -0.07801694  0.01112682\n",
      "    -0.09712583]\n",
      "   [ 0.19088131  0.15085971  0.24964261  0.07970738 -0.18637705\n",
      "    -0.15441382  0.07964927  0.13073379  0.12679493 -0.04198372\n",
      "     0.22423387  0.19521719  0.20864773 -0.11647862 -0.16286439\n",
      "    -0.22709614]\n",
      "   [ 0.24398863 -0.23059213 -0.13565522 -0.2481969   0.05032104\n",
      "    -0.12415487 -0.02175313 -0.14484233 -0.18307954  0.05507451\n",
      "     0.10089636  0.03473222 -0.12098587 -0.2025004   0.23188502\n",
      "    -0.14401948]\n",
      "   [ 0.22221047 -0.22537577  0.194044   -0.1333018  -0.0280419\n",
      "    -0.18426555  0.21288931 -0.07767665  0.24437165  0.17271167\n",
      "     0.13442135 -0.10692185 -0.01498556  0.16939247  0.13884205\n",
      "    -0.07184887]\n",
      "   [ 0.1253596  -0.0556339  -0.06982285 -0.24761945 -0.16265476\n",
      "     0.24631453 -0.1224888  -0.08457482  0.08833456 -0.21383041\n",
      "    -0.22151518  0.23079878 -0.01594228  0.07331407  0.22986102\n",
      "     0.17778999]\n",
      "   [-0.17286438 -0.02045864  0.12913483 -0.12246233  0.1592933\n",
      "    -0.10935777  0.2043621   0.08991671  0.04223305  0.15936625\n",
      "     0.14576977 -0.02377379 -0.17131501 -0.1184901   0.10396713\n",
      "    -0.11324465]\n",
      "   [-0.10670924  0.1634171   0.08009785 -0.13677597 -0.01862109\n",
      "     0.12677163 -0.03798401 -0.12241334  0.22264671 -0.12582624\n",
      "     0.07739764  0.11205941  0.1516912   0.08695281 -0.00988376\n",
      "     0.18587768]]\n",
      "\n",
      "  [[ 0.00178355  0.19194585 -0.06004953  0.1245324   0.20288545\n",
      "    -0.04758513 -0.09271508  0.07102025  0.23435676 -0.1010589\n",
      "    -0.22030932  0.2093429  -0.11074632 -0.18114245  0.00763994\n",
      "     0.21748775]\n",
      "   [ 0.17683005 -0.00260222 -0.15310723 -0.24552715 -0.07519209\n",
      "     0.02902019 -0.15512651  0.07155192 -0.12440825 -0.00612116\n",
      "    -0.01399356 -0.11836183 -0.02350152  0.04031479  0.0007174\n",
      "     0.01331902]\n",
      "   [-0.21044677 -0.02530861  0.04255468 -0.071935    0.22423601\n",
      "    -0.12318146  0.11011297 -0.19562727  0.12090373 -0.23425603\n",
      "    -0.00198889 -0.23576325 -0.01673615  0.05653775  0.05733353\n",
      "     0.03774285]\n",
      "   [ 0.19920486 -0.22386098 -0.16359824  0.07336897 -0.01593292\n",
      "     0.02662516 -0.1499722   0.0691427   0.11087829 -0.14132196\n",
      "    -0.04079366  0.15999722 -0.21737558  0.23761892  0.19051301\n",
      "    -0.1641435 ]\n",
      "   [-0.14874738  0.0058499   0.01213872 -0.11930001 -0.11980623\n",
      "     0.01169252  0.21036148  0.0697934  -0.06820589  0.13446772\n",
      "    -0.24141169  0.02393299 -0.11293584 -0.08480215  0.02182961\n",
      "     0.22851199]\n",
      "   [-0.16176802  0.14967495 -0.1534357   0.12605977 -0.14440405\n",
      "     0.17948729 -0.09405679 -0.15599376  0.2192688  -0.19885916\n",
      "    -0.16727215 -0.2150665   0.08843929  0.01606619 -0.11956054\n",
      "    -0.19678873]\n",
      "   [-0.15818846  0.17040563 -0.22329575  0.15950322 -0.08339566\n",
      "    -0.13411182 -0.22817886  0.10235798 -0.23974931  0.0520075\n",
      "     0.08387071  0.17671806 -0.06313086  0.13978595  0.06589007\n",
      "     0.12629837]\n",
      "   [-0.11749661  0.1807043   0.19513065  0.10023212  0.24173987\n",
      "    -0.23178506  0.1800754   0.0607186  -0.06471813  0.04781502\n",
      "     0.00729698  0.07480192  0.18674302  0.07724226  0.14441031\n",
      "     0.01649761]]]\n",
      "\n",
      "\n",
      " [[[-0.03311497  0.1258766  -0.03980756 -0.09861064 -0.1277082\n",
      "     0.10000879  0.11820972 -0.18009526 -0.15451479 -0.17294663\n",
      "     0.17020208 -0.04012883 -0.19905847  0.17517418  0.1074158\n",
      "     0.01770061]\n",
      "   [ 0.07383627  0.04693967  0.21433377  0.2004798   0.17673051\n",
      "     0.2450909   0.14661628  0.19307435 -0.12841845 -0.13358784\n",
      "     0.13772935 -0.13422966  0.06645954 -0.16164523  0.18756425\n",
      "     0.08142269]\n",
      "   [ 0.06395507  0.16826946  0.17796838  0.01377469 -0.09145498\n",
      "     0.10017228  0.12440956 -0.06524813  0.17235386 -0.06631768\n",
      "    -0.12142986  0.14612275 -0.04920489  0.01905     0.08849114\n",
      "     0.09312445]\n",
      "   [-0.21430194  0.14969599  0.12995493 -0.0860402  -0.15594345\n",
      "    -0.19697523 -0.05098385  0.15076458 -0.20623553  0.19102901\n",
      "    -0.05948722  0.16220903  0.0549596  -0.17324758  0.07403332\n",
      "     0.23476404]\n",
      "   [ 0.18535054 -0.01974255  0.13889718 -0.01011729 -0.24364251\n",
      "    -0.21387649 -0.2092315  -0.08070034 -0.02537143 -0.13360578\n",
      "    -0.04594654 -0.18447804  0.10211372 -0.01157206 -0.12049222\n",
      "    -0.03162944]\n",
      "   [ 0.16127586 -0.24691695  0.04138279 -0.22977823 -0.12569487\n",
      "     0.02260119  0.17128283 -0.16517222  0.0648585  -0.16704696\n",
      "     0.24355829 -0.18485177  0.2120052  -0.20207983 -0.00382847\n",
      "     0.11211783]\n",
      "   [-0.06655192  0.1841929   0.10423934 -0.18308032 -0.1908015\n",
      "    -0.24732792 -0.21727347 -0.16036326 -0.0067749  -0.15492892\n",
      "     0.01601815 -0.09391475  0.23498768 -0.09983802  0.23809403\n",
      "    -0.09367448]\n",
      "   [ 0.22278887 -0.22996378 -0.13383609  0.02667856  0.21619731\n",
      "    -0.09844011  0.04117292  0.03521949 -0.00295264 -0.06687611\n",
      "    -0.16115874 -0.24970424 -0.22584152  0.04821837 -0.02460539\n",
      "    -0.23140329]]\n",
      "\n",
      "  [[-0.18384045 -0.07131445 -0.02003753 -0.12345749 -0.24772805\n",
      "    -0.0591681  -0.22099876 -0.10867238  0.05496579 -0.24000043\n",
      "     0.12130052  0.05348402  0.17916197  0.10360909  0.15508461\n",
      "    -0.24735516]\n",
      "   [-0.08566415  0.17750949  0.11974221  0.16773748 -0.0830943\n",
      "    -0.08058    -0.00577033 -0.14643836  0.24162132 -0.05857408\n",
      "    -0.19055021  0.1345228  -0.22779644 -0.1601823  -0.16117483\n",
      "    -0.10286498]\n",
      "   [ 0.06133574  0.24821758 -0.22794688  0.02049685 -0.03034788\n",
      "     0.241229    0.10711557 -0.01992434 -0.08800435 -0.05443317\n",
      "     0.10572845  0.01207262 -0.13105512 -0.22861475  0.09859848\n",
      "     0.20748681]\n",
      "   [ 0.20250797 -0.24068254  0.11085892  0.11751884 -0.20209771\n",
      "     0.17610735  0.10797662 -0.20836651 -0.08102417 -0.07290971\n",
      "     0.03967398  0.23608232  0.10115141 -0.11907947 -0.22285402\n",
      "     0.2226901 ]\n",
      "   [-0.01933706 -0.18380052  0.16316366 -0.02370656  0.15015\n",
      "     0.06676596 -0.23134565  0.09539664  0.22972149  0.2059533\n",
      "     0.03598803  0.18620443 -0.10007733  0.18203467 -0.02344739\n",
      "     0.17151207]\n",
      "   [-0.12270039 -0.16479349 -0.00698209 -0.2356919   0.12461263\n",
      "    -0.06360525  0.20608407  0.09140432 -0.24178499  0.09802401\n",
      "    -0.00190687  0.06751549 -0.22167635 -0.17189133 -0.2290473\n",
      "     0.22376955]\n",
      "   [-0.24204212 -0.12599689  0.23177564 -0.20726854 -0.00205141\n",
      "    -0.03434849  0.18935168 -0.14828146  0.17615408  0.23537391\n",
      "    -0.01974487 -0.11459219 -0.20645076 -0.13067818 -0.19092673\n",
      "    -0.00809753]\n",
      "   [ 0.12988168 -0.02145797 -0.24288124 -0.13481694 -0.06399602\n",
      "     0.10477573  0.224729   -0.1571238  -0.1104731  -0.13970822\n",
      "     0.17865449 -0.1420008  -0.09402359 -0.13309652  0.18296456\n",
      "     0.11509913]]]]\n"
     ]
    }
   ],
   "source": [
    "tf.reset_default_graph()\n",
    "with tf.Session() as sess_test:\n",
    "    parameters = initialize_parameters()\n",
    "    init = tf.global_variables_initializer()\n",
    "    sess_test.run(init)\n",
    "    print(\"W1 = \" + str(parameters[\"W1\"].eval()))\n",
    "    print(\"W2 = \" + str(parameters[\"W2\"].eval()))"
   ]
  },
  {
   "cell_type": "markdown",
   "metadata": {},
   "source": [
    "### 前向传播"
   ]
  },
  {
   "cell_type": "raw",
   "metadata": {},
   "source": [
    "TF提供的一些CNN相关的工具\n",
    "1.tf.nn.conv2d(X, W1, strides = [1,s,s,1], padding='SAME'):\n",
    "    X是指输入矩阵\n",
    "    W1是指过滤器\n",
    "    strides是指各个维度的卷积步长\n",
    "    [1,s,s,1]的含义分别是[样本数，输入矩阵的高，输入矩阵的宽，输入]\n",
    "    padding 是指填补数量，默认使用SAME填补，也就是自动填补一定数量元素而保证输入矩阵与输出矩阵的尺寸一样\n",
    "    这个函数会将X和W1进行卷积。\n",
    "2.tf.nn.max_pool(A, ksize=[1,f,f,1], strides=[1,s,s,1],padding='SAME'):\n",
    "    对输入矩阵A进行最大池化\n",
    "    ksize中对f表示池化窗口的大小\n",
    "3.tf.nn.relu(Z)\n",
    "4.tf.contrib.layers.flattern(P):\n",
    "    会将P中样本的矩阵扁平化成向量\n",
    "5.tf.contrib.layers.fully_connected(F, num_outputs):\n",
    "    构建一个全连接层，F是该层的输入，num_outputs表示该层中神经元的个数。\n",
    "    这个函数会自动初始化该层的权重w\n",
    "    我们在前面只初始化了卷积层相关的参数，因为TF会自动棒我们初始化全连接层的参数"
   ]
  },
  {
   "cell_type": "code",
   "execution_count": 10,
   "metadata": {},
   "outputs": [],
   "source": [
    "def forward_propagation(X, parameters):\n",
    "    \"\"\"\n",
    "    这个函数会实现如下的前向传播流程:\n",
    "    CONV2D卷积 -> RELU激活 -> MAXPOOL池化 \n",
    "    -> CONV2D卷积 -> RELU激活 -> MAXPOOL池化 \n",
    "    -> FLATTEN扁平化 -> 全连接层 -> softmax\n",
    "    \n",
    "    参数：\n",
    "    X -- 输入特征对占位符\n",
    "    parameters -- 之前我们初始化好的‘W1’，‘W2’\n",
    "    \n",
    "    return：\n",
    "    Z3 -- 最后一个全连接层的输出\n",
    "    \"\"\"\n",
    "    \n",
    "    W1 = parameters['W1']\n",
    "    W2 = parameters['W2']\n",
    "    \n",
    "    Z1 = tf.nn.conv2d(X, W1 ,strides=[1, 1, 1, 1], padding = 'SAME')\n",
    "    \n",
    "    A1 = tf.nn.relu(Z1)\n",
    "    \n",
    "    P1 = tf.nn.max_pool(A1, ksize=[1, 8, 8, 1], strides = [1, 8, 8, 1], padding = 'SAME')\n",
    "    \n",
    "    Z2 = tf.nn.conv2d(P1, W2, strides=[1, 1, 1, 1], padding = 'SAME')\n",
    "    \n",
    "    A2 = tf.nn.relu(Z2)\n",
    "    \n",
    "    P2 = tf.nn.max_pool(A2, ksize = [1, 4, 4, 1], strides = [1, 4, 4, 1], padding = 'SAME')\n",
    "    \n",
    "    P = tf.contrib.layers.flatten(P2)\n",
    "    \n",
    "    #指定该全连接层有6个神经元\n",
    "    #activation_fn = None表示该层没有激活函数， 因为后面会再接一个softmax层\n",
    "    Z3 = tf.contrib.layers.fully_connected(P, 6, activation_fn = None)\n",
    "\n",
    "    return Z3"
   ]
  },
  {
   "cell_type": "code",
   "execution_count": 11,
   "metadata": {},
   "outputs": [
    {
     "name": "stdout",
     "output_type": "stream",
     "text": [
      "WARNING:tensorflow:From /Users/mac/anaconda3/lib/python3.7/site-packages/tensorflow/contrib/layers/python/layers/layers.py:1634: flatten (from tensorflow.python.layers.core) is deprecated and will be removed in a future version.\n",
      "Instructions for updating:\n",
      "Use keras.layers.flatten instead.\n",
      "WARNING:tensorflow:Entity <bound method Flatten.call of <tensorflow.python.layers.core.Flatten object at 0xb43db4e10>> could not be transformed and will be executed as-is. Please report this to the AutgoGraph team. When filing the bug, set the verbosity to 10 (on Linux, `export AUTOGRAPH_VERBOSITY=10`) and attach the full output. Cause: converting <bound method Flatten.call of <tensorflow.python.layers.core.Flatten object at 0xb43db4e10>>: AttributeError: module 'gast' has no attribute 'Num'\n",
      "WARNING: Entity <bound method Flatten.call of <tensorflow.python.layers.core.Flatten object at 0xb43db4e10>> could not be transformed and will be executed as-is. Please report this to the AutgoGraph team. When filing the bug, set the verbosity to 10 (on Linux, `export AUTOGRAPH_VERBOSITY=10`) and attach the full output. Cause: converting <bound method Flatten.call of <tensorflow.python.layers.core.Flatten object at 0xb43db4e10>>: AttributeError: module 'gast' has no attribute 'Num'\n",
      "WARNING:tensorflow:Entity <bound method Dense.call of <tensorflow.python.layers.core.Dense object at 0x1c4e668990>> could not be transformed and will be executed as-is. Please report this to the AutgoGraph team. When filing the bug, set the verbosity to 10 (on Linux, `export AUTOGRAPH_VERBOSITY=10`) and attach the full output. Cause: converting <bound method Dense.call of <tensorflow.python.layers.core.Dense object at 0x1c4e668990>>: AssertionError: Bad argument number for Name: 3, expecting 4\n",
      "WARNING: Entity <bound method Dense.call of <tensorflow.python.layers.core.Dense object at 0x1c4e668990>> could not be transformed and will be executed as-is. Please report this to the AutgoGraph team. When filing the bug, set the verbosity to 10 (on Linux, `export AUTOGRAPH_VERBOSITY=10`) and attach the full output. Cause: converting <bound method Dense.call of <tensorflow.python.layers.core.Dense object at 0x1c4e668990>>: AssertionError: Bad argument number for Name: 3, expecting 4\n",
      "Z3 =[[ 1.4416987  -0.24909692  5.450499   -0.2618962  -0.20669901  1.3654671 ]\n",
      " [ 1.4070845  -0.02573182  5.0892797  -0.4866991  -0.4094069   1.2624857 ]]\n"
     ]
    }
   ],
   "source": [
    "#单元测试\n",
    "tf.reset_default_graph()\n",
    "with tf.Session() as sess:\n",
    "    np.random.seed(1)\n",
    "    X, Y = create_placeholders(64, 64, 3, 6)\n",
    "    parameters = initialize_parameters()\n",
    "    Z3 = forward_propagation(X, parameters)\n",
    "    init = tf.global_variables_initializer()\n",
    "    sess.run(init)\n",
    "    a = sess.run(Z3, {X: np.random.randn(2, 64, 64, 3), Y:np.random.randn(2,6)})\n",
    "    print('Z3 =' + str(a))"
   ]
  },
  {
   "cell_type": "markdown",
   "metadata": {},
   "source": [
    "### 计算损失"
   ]
  },
  {
   "cell_type": "code",
   "execution_count": 12,
   "metadata": {},
   "outputs": [],
   "source": [
    "def compute_cost(Z3, Y):\n",
    "    \"\"\"\n",
    "    参数：\n",
    "    Z3\n",
    "    Y\n",
    "    \n",
    "    returns：\n",
    "    cost -- 返回一个滕送染发咯哇张量，它代表量softmax激活以及成本计算操作\n",
    "    \"\"\"\n",
    "    \n",
    "    #tf.nn.softmax_cross_with_logits函数不仅仅执行了softmax函数，还将成本也给计算了\n",
    "    #tf.reduce_mean 本用来获取平均值。再这里被用于获取多个样本的平均损失，即获取成本\n",
    "    cost = tf.reduce_mean(tf.nn.softmax_cross_entropy_with_logits(logits=Z3, labels=Y))\n",
    "    \n",
    "    return cost"
   ]
  },
  {
   "cell_type": "code",
   "execution_count": 13,
   "metadata": {},
   "outputs": [
    {
     "name": "stdout",
     "output_type": "stream",
     "text": [
      "WARNING:tensorflow:Entity <bound method Flatten.call of <tensorflow.python.layers.core.Flatten object at 0x1c4e7f87d0>> could not be transformed and will be executed as-is. Please report this to the AutgoGraph team. When filing the bug, set the verbosity to 10 (on Linux, `export AUTOGRAPH_VERBOSITY=10`) and attach the full output. Cause: converting <bound method Flatten.call of <tensorflow.python.layers.core.Flatten object at 0x1c4e7f87d0>>: AttributeError: module 'gast' has no attribute 'Num'\n",
      "WARNING: Entity <bound method Flatten.call of <tensorflow.python.layers.core.Flatten object at 0x1c4e7f87d0>> could not be transformed and will be executed as-is. Please report this to the AutgoGraph team. When filing the bug, set the verbosity to 10 (on Linux, `export AUTOGRAPH_VERBOSITY=10`) and attach the full output. Cause: converting <bound method Flatten.call of <tensorflow.python.layers.core.Flatten object at 0x1c4e7f87d0>>: AttributeError: module 'gast' has no attribute 'Num'\n",
      "WARNING:tensorflow:Entity <bound method Dense.call of <tensorflow.python.layers.core.Dense object at 0x1c4e6636d0>> could not be transformed and will be executed as-is. Please report this to the AutgoGraph team. When filing the bug, set the verbosity to 10 (on Linux, `export AUTOGRAPH_VERBOSITY=10`) and attach the full output. Cause: converting <bound method Dense.call of <tensorflow.python.layers.core.Dense object at 0x1c4e6636d0>>: AssertionError: Bad argument number for Name: 3, expecting 4\n",
      "WARNING: Entity <bound method Dense.call of <tensorflow.python.layers.core.Dense object at 0x1c4e6636d0>> could not be transformed and will be executed as-is. Please report this to the AutgoGraph team. When filing the bug, set the verbosity to 10 (on Linux, `export AUTOGRAPH_VERBOSITY=10`) and attach the full output. Cause: converting <bound method Dense.call of <tensorflow.python.layers.core.Dense object at 0x1c4e6636d0>>: AssertionError: Bad argument number for Name: 3, expecting 4\n",
      "WARNING:tensorflow:From <ipython-input-12-f8940e8ec14e>:13: softmax_cross_entropy_with_logits (from tensorflow.python.ops.nn_ops) is deprecated and will be removed in a future version.\n",
      "Instructions for updating:\n",
      "\n",
      "Future major versions of TensorFlow will allow gradients to flow\n",
      "into the labels input on backprop by default.\n",
      "\n",
      "See `tf.nn.softmax_cross_entropy_with_logits_v2`.\n",
      "\n",
      "cost = 4.664871\n"
     ]
    }
   ],
   "source": [
    "#单元测试\n",
    "tf.reset_default_graph()\n",
    "\n",
    "with tf.Session() as sess:\n",
    "    np.random.seed(1)\n",
    "    X, Y = create_placeholders(64, 64, 3, 6)\n",
    "    parameters = initialize_parameters()\n",
    "    Z3 = forward_propagation(X, parameters)\n",
    "    cost = compute_cost(Z3, Y)\n",
    "    init = tf.global_variables_initializer()\n",
    "    sess.run(init)\n",
    "    a =sess.run(cost, {X: np.random.randn(4, 64, 64, 3), Y: np.random.randn(4, 6)})\n",
    "    print('cost = ' + str(a))"
   ]
  },
  {
   "cell_type": "markdown",
   "metadata": {},
   "source": [
    "## 模型构建"
   ]
  },
  {
   "cell_type": "code",
   "execution_count": 21,
   "metadata": {},
   "outputs": [],
   "source": [
    "def model(X_train, Y_train, X_test, Y_test, learning_rate=0.001,\n",
    "          num_epochs=100, minibatch_size=64, print_cost=True):\n",
    "    \"\"\"\n",
    "    参数:\n",
    "    X_train -- 训练集数据，维度是(1080, 64, 64, 3)\n",
    "    Y_train -- 训练集标签, 维度是(1080, 6)\n",
    "    X_test -- 测试集数据, 维度是(120, 64, 64, 3)\n",
    "    Y_test -- 测试集标签, 维度是(120, 6)\n",
    "    \n",
    "    返回值:\n",
    "    train_accuracy -- 训练集上的预测精准度\n",
    "    test_accuracy -- 测试集上的预测精准度\n",
    "    parameters -- 训练好的参数\n",
    "    \"\"\"\n",
    "    \n",
    "    ops.reset_default_graph()                         # 重置一下tf框架\n",
    "    tf.set_random_seed(1)                       \n",
    "    seed = 3                                       \n",
    "    (m, n_H0, n_W0, n_C0) = X_train.shape             \n",
    "    n_y = Y_train.shape[1]   # n_y是标签的类别数量，这里是6\n",
    "    costs = []                                     \n",
    "    \n",
    "    X, Y = create_placeholders(n_H0, n_W0, n_C0, n_y)\n",
    "\n",
    "    parameters = initialize_parameters()\n",
    "\n",
    "    Z3 = forward_propagation(X, parameters)\n",
    "\n",
    "    cost = compute_cost(Z3, Y)\n",
    "\n",
    "    \n",
    "    # 我们使用adam来作为优化算法\n",
    "    optimizer = tf.train.AdamOptimizer(learning_rate=learning_rate).minimize(cost)\n",
    "    \n",
    "    init = tf.global_variables_initializer()\n",
    "     \n",
    "    with tf.Session() as sess:\n",
    "        \n",
    "        sess.run(init)\n",
    "        \n",
    "        for epoch in range(num_epochs):\n",
    "\n",
    "            minibatch_cost = 0.\n",
    "            num_minibatches = int(m / minibatch_size) \n",
    "            seed = seed + 1\n",
    "            minibatches = random_mini_batches(X_train, Y_train, minibatch_size, seed)\n",
    "\n",
    "            for minibatch in minibatches:\n",
    "\n",
    "                (minibatch_X, minibatch_Y) = minibatch\n",
    "                # 执行session。训练正式开始。每一次训练一个子训练集minibatch\n",
    "                _ , temp_cost = sess.run([optimizer, cost], feed_dict={X:minibatch_X, Y:minibatch_Y})\n",
    "                \n",
    "                minibatch_cost += temp_cost / num_minibatches\n",
    "                \n",
    "\n",
    "            if print_cost == True and epoch % 5 == 0:\n",
    "                print (\"Cost after epoch %i: %f\" % (epoch, minibatch_cost))\n",
    "            if print_cost == True and epoch % 1 == 0:\n",
    "                costs.append(minibatch_cost)\n",
    "        \n",
    "        plt.plot(np.squeeze(costs))\n",
    "        plt.ylabel('cost')\n",
    "        plt.xlabel('iterations (per tens)')\n",
    "        plt.title(\"Learning rate =\" + str(learning_rate))\n",
    "        plt.show()\n",
    "\n",
    "        # 计算预测精准度\n",
    "        predict_op = tf.argmax(Z3, 1)\n",
    "        correct_prediction = tf.equal(predict_op, tf.argmax(Y, 1))\n",
    "        accuracy = tf.reduce_mean(tf.cast(correct_prediction, \"float\"))\n",
    "        print(accuracy)\n",
    "        train_accuracy = accuracy.eval({X: X_train, Y: Y_train})\n",
    "        test_accuracy = accuracy.eval({X: X_test, Y: Y_test})\n",
    "        print(\"训练集预测精准度:\", train_accuracy)\n",
    "        print(\"测试集预测精准度:\", test_accuracy)\n",
    "                \n",
    "        return train_accuracy, test_accuracy, parameters"
   ]
  },
  {
   "cell_type": "code",
   "execution_count": 22,
   "metadata": {},
   "outputs": [
    {
     "name": "stdout",
     "output_type": "stream",
     "text": [
      "WARNING:tensorflow:Entity <bound method Flatten.call of <tensorflow.python.layers.core.Flatten object at 0x1c598e5410>> could not be transformed and will be executed as-is. Please report this to the AutgoGraph team. When filing the bug, set the verbosity to 10 (on Linux, `export AUTOGRAPH_VERBOSITY=10`) and attach the full output. Cause: converting <bound method Flatten.call of <tensorflow.python.layers.core.Flatten object at 0x1c598e5410>>: AttributeError: module 'gast' has no attribute 'Num'\n",
      "WARNING: Entity <bound method Flatten.call of <tensorflow.python.layers.core.Flatten object at 0x1c598e5410>> could not be transformed and will be executed as-is. Please report this to the AutgoGraph team. When filing the bug, set the verbosity to 10 (on Linux, `export AUTOGRAPH_VERBOSITY=10`) and attach the full output. Cause: converting <bound method Flatten.call of <tensorflow.python.layers.core.Flatten object at 0x1c598e5410>>: AttributeError: module 'gast' has no attribute 'Num'\n",
      "WARNING:tensorflow:Entity <bound method Dense.call of <tensorflow.python.layers.core.Dense object at 0x1c5150be90>> could not be transformed and will be executed as-is. Please report this to the AutgoGraph team. When filing the bug, set the verbosity to 10 (on Linux, `export AUTOGRAPH_VERBOSITY=10`) and attach the full output. Cause: converting <bound method Dense.call of <tensorflow.python.layers.core.Dense object at 0x1c5150be90>>: AssertionError: Bad argument number for Name: 3, expecting 4\n",
      "WARNING: Entity <bound method Dense.call of <tensorflow.python.layers.core.Dense object at 0x1c5150be90>> could not be transformed and will be executed as-is. Please report this to the AutgoGraph team. When filing the bug, set the verbosity to 10 (on Linux, `export AUTOGRAPH_VERBOSITY=10`) and attach the full output. Cause: converting <bound method Dense.call of <tensorflow.python.layers.core.Dense object at 0x1c5150be90>>: AssertionError: Bad argument number for Name: 3, expecting 4\n",
      "Cost after epoch 0: 1.971088\n",
      "Cost after epoch 5: 1.894473\n",
      "Cost after epoch 10: 1.881714\n",
      "Cost after epoch 15: 1.853389\n",
      "Cost after epoch 20: 1.767419\n",
      "Cost after epoch 25: 1.601678\n",
      "Cost after epoch 30: 1.365254\n",
      "Cost after epoch 35: 1.145214\n",
      "Cost after epoch 40: 1.014459\n",
      "Cost after epoch 45: 0.895421\n",
      "Cost after epoch 50: 0.817803\n",
      "Cost after epoch 55: 0.729975\n",
      "Cost after epoch 60: 0.668969\n",
      "Cost after epoch 65: 0.604105\n",
      "Cost after epoch 70: 0.574317\n",
      "Cost after epoch 75: 0.536932\n",
      "Cost after epoch 80: 0.508335\n",
      "Cost after epoch 85: 0.471849\n",
      "Cost after epoch 90: 0.436079\n",
      "Cost after epoch 95: 0.419138\n"
     ]
    },
    {
     "data": {
      "image/png": "[encoded data removed]",
      "text/plain": [
       "<Figure size 432x288 with 1 Axes>"
      ]
     },
     "metadata": {
      "needs_background": "light"
     },
     "output_type": "display_data"
    },
    {
     "name": "stdout",
     "output_type": "stream",
     "text": [
      "Tensor(\"Mean_1:0\", shape=(), dtype=float32)\n",
      "训练集预测精准度: 0.87222224\n",
      "测试集预测精准度: 0.80833334\n"
     ]
    }
   ],
   "source": [
    "_, _, parameters = model(X_train, Y_train, X_test, Y_test)"
   ]
  },
  {
   "cell_type": "raw",
   "metadata": {},
   "source": [
    "一下函数可以将照片大小调整像素等于训练集像素大小"
   ]
  },
  {
   "cell_type": "code",
   "execution_count": 23,
   "metadata": {},
   "outputs": [
    {
     "name": "stderr",
     "output_type": "stream",
     "text": [
      "/Users/mac/anaconda3/lib/python3.7/site-packages/ipykernel_launcher.py:3: DeprecationWarning: `imresize` is deprecated!\n",
      "`imresize` is deprecated in SciPy 1.0.0, and will be removed in 1.3.0.\n",
      "Use Pillow instead: ``numpy.array(Image.fromarray(arr).resize())``.\n",
      "  This is separate from the ipykernel package so we can avoid doing imports until\n"
     ]
    },
    {
     "data": {
      "text/plain": [
       "<matplotlib.image.AxesImage at 0x1c50f80ad0>"
      ]
     },
     "execution_count": 23,
     "metadata": {},
     "output_type": "execute_result"
    },
    {
     "data": {
      "image/png": "[encoded data removed]",
      "text/plain": [
       "<Figure size 432x288 with 1 Axes>"
      ]
     },
     "metadata": {
      "needs_background": "light"
     },
     "output_type": "display_data"
    }
   ],
   "source": [
    "fname = \"images/thumbs_up.jpg\"\n",
    "image = np.array(plt.imread(fname))\n",
    "my_image = scipy.misc.imresize(image, size=(64,64))\n",
    "plt.imshow(my_image)"
   ]
  },
  {
   "cell_type": "code",
   "execution_count": null,
   "metadata": {},
   "outputs": [],
   "source": []
  }
 ],
 "metadata": {
  "kernelspec": {
   "display_name": "Python 3",
   "language": "python",
   "name": "python3"
  },
  "language_info": {
   "codemirror_mode": {
    "name": "ipython",
    "version": 3
   },
   "file_extension": ".py",
   "mimetype": "text/x-python",
   "name": "python",
   "nbconvert_exporter": "python",
   "pygments_lexer": "ipython3",
   "version": "3.7.4"
  }
 },
 "nbformat": 4,
 "nbformat_minor": 2
}
