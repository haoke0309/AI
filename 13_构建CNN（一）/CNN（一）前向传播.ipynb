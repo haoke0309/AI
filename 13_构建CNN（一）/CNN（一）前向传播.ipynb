{
 "cells": [
  {
   "cell_type": "code",
   "execution_count": 3,
   "metadata": {},
   "outputs": [],
   "source": [
    "import numpy as np\n",
    "import h5py\n",
    "import matplotlib.pyplot as plt\n",
    "\n",
    "%matplotlib inline\n",
    "plt.rcParams['figure.figsize'] = (5.0, 4.0) \n",
    "plt.rcParams['image.interpolation'] = 'nearest'\n",
    "plt.rcParams['image.cmap'] = 'gray'\n",
    "\n",
    "%load_ext autoreload\n",
    "%autoreload 2\n",
    "\n",
    "np.random.seed(1)"
   ]
  },
  {
   "cell_type": "markdown",
   "metadata": {},
   "source": [
    "## 1.zero_padding"
   ]
  },
  {
   "cell_type": "raw",
   "metadata": {},
   "source": [
    "padding：\n",
    "    可以让我们既使用卷积层又可以避免矩阵的尺寸越来越小，对于很深的神经网络意义很大，因为如果不使用padding，那么每卷积一次矩阵的尺寸就会变小，等到很深的网络层时，矩阵就没有了\n",
    "    有助于保留图像四周的信息，如果没有padding，图像四周的元素被卷积的次数就很少"
   ]
  },
  {
   "cell_type": "code",
   "execution_count": 4,
   "metadata": {},
   "outputs": [],
   "source": [
    "def zero_pad(X, pad):\n",
    "    \"\"\"\n",
    "    作用：给样本集X的所有样本进行零填充\n",
    "    \n",
    "    参数：\n",
    "    X -- 样本集，维度是（m, n_H, n_W, n_c）\n",
    "    pad -- padding的个数\n",
    "    \n",
    "    返回值：\n",
    "    X_pad -- 返回填补后的样本集。维度是（m, n_H + 2*pad, n_W+ 2*pad, n_c）\n",
    "    \"\"\"\n",
    "    \n",
    "    #np.pad是numpy提供的一个零补函数\n",
    "    X_pad = np.pad(X, ((0, 0),(pad, pad),(pad, pad),(0, 0)),'constant',constant_values = 0)\n",
    "    \n",
    "    return X_pad"
   ]
  },
  {
   "cell_type": "code",
   "execution_count": 5,
   "metadata": {},
   "outputs": [
    {
     "name": "stdout",
     "output_type": "stream",
     "text": [
      "x.shape (4, 3, 3, 2)\n",
      "x_pad.shape (4, 7, 7, 2)\n",
      "x[1,1] : [[ 0.90085595 -0.68372786]\n",
      " [-0.12289023 -0.93576943]\n",
      " [-0.26788808  0.53035547]]\n",
      "x_pad[1,1] [[0. 0.]\n",
      " [0. 0.]\n",
      " [0. 0.]\n",
      " [0. 0.]\n",
      " [0. 0.]\n",
      " [0. 0.]\n",
      " [0. 0.]]\n"
     ]
    }
   ],
   "source": [
    "#单元测试\n",
    "np.random.seed(1)\n",
    "x = np.random.randn(4,3,3,2)\n",
    "x_pad = zero_pad(x, 2)\n",
    "print('x.shape',x.shape)\n",
    "print('x_pad.shape',x_pad.shape)\n",
    "print('x[1,1] :',x[1,1])\n",
    "print('x_pad[1,1]',x_pad[1,1])"
   ]
  },
  {
   "cell_type": "code",
   "execution_count": 6,
   "metadata": {},
   "outputs": [
    {
     "data": {
      "text/plain": [
       "<matplotlib.image.AxesImage at 0x1225fd490>"
      ]
     },
     "execution_count": 6,
     "metadata": {},
     "output_type": "execute_result"
    },
    {
     "data": {
      "image/png": "[encoded data removed]",
      "text/plain": [
       "<Figure size 432x288 with 2 Axes>"
      ]
     },
     "metadata": {
      "needs_background": "light"
     },
     "output_type": "display_data"
    }
   ],
   "source": [
    "fig, axarr = plt.subplots(1, 2)\n",
    "axarr[0].set_title('x')\n",
    "axarr[1].set_title('x_pad')\n",
    "axarr[0].imshow(x[0,:,:,0])\n",
    "axarr[1].imshow(x_pad[0,:,:,0])"
   ]
  },
  {
   "cell_type": "markdown",
   "metadata": {},
   "source": [
    "## 2.单步卷积"
   ]
  },
  {
   "cell_type": "code",
   "execution_count": 9,
   "metadata": {},
   "outputs": [],
   "source": [
    "def conv_single_step(a_slice_prev, W, b):\n",
    "    \"\"\"\n",
    "    作用：只执行一步卷积\n",
    "    \n",
    "    参数：\n",
    "    a_slice_prov -- 输入 矩阵中和过滤器卷积的那一块数据\n",
    "                 -- 这里的输入矩阵也就是上一层的输出矩阵\n",
    "    W -- 权重参数w。这里指的是过滤器，过滤器就是权重参数w\n",
    "      -- 维度是（f, f, n_C_prev）,与a_slice_prev是一样的，因为是它俩进行卷积，所以维度是一样的\n",
    "    b -- 阈值b，教程中我们说过每一个过滤器会有一个对应的阈值 维度是（1，1，1）\n",
    "    \n",
    "    返回值：\n",
    "    Z -- 卷积一步后得到的一个数值，这个数值是一个输出矩阵的一个元素\n",
    "\n",
    "    \"\"\"\n",
    "    #将a_slice_prev与W中的每一个元素进行相乘\n",
    "    s = np.multiply(a_slice_prev, W) + b\n",
    "    #将上面相乘的结果累加起来\n",
    "    Z = np.sum(s)\n",
    "    \n",
    "    return Z"
   ]
  },
  {
   "cell_type": "code",
   "execution_count": 10,
   "metadata": {},
   "outputs": [
    {
     "name": "stdout",
     "output_type": "stream",
     "text": [
      "Z: -23.16021220252078\n"
     ]
    }
   ],
   "source": [
    "#单元测试\n",
    "np.random.seed(1)\n",
    "a_slice_prev = np.random.randn(4, 4, 3)\n",
    "W = np.random.randn(4, 4, 3)\n",
    "b = np.random.randn(1, 1, 1)\n",
    "\n",
    "Z = conv_single_step(a_slice_prev, W, b)\n",
    "print('Z:',Z)"
   ]
  },
  {
   "cell_type": "markdown",
   "metadata": {},
   "source": [
    "## 3.前向传播"
   ]
  },
  {
   "cell_type": "markdown",
   "metadata": {},
   "source": [
    "### 多个过滤器生成矩阵后构建多维矩阵"
   ]
  },
  {
   "cell_type": "raw",
   "metadata": {},
   "source": [
    "可以使用多个过滤器。每个过滤器卷积之后都会得到一个二维矩阵。将多个过滤器得到的二维矩阵叠加起来构成多维矩阵"
   ]
  },
  {
   "cell_type": "markdown",
   "metadata": {},
   "source": [
    "### \n",
    "<center>\n",
    "    <video width=\"620\" height=\"440\" src=\"images/conv_kiank.mp4\" type=\"video/mp4\" controls>\n",
    "    </video>\n",
    "</center>"
   ]
  },
  {
   "cell_type": "markdown",
   "metadata": {},
   "source": [
    "### 获取子矩阵"
   ]
  },
  {
   "cell_type": "raw",
   "metadata": {},
   "source": [
    "python中，如果想获取矩阵中某一区域的元素，例如一个（5，5，5）矩阵中的左上角的一个2 x 2的子矩阵，那么可以使用如下代码：\n",
    "    a_slice_prev = a_prev[0:2, 0:2, :]"
   ]
  },
  {
   "cell_type": "raw",
   "metadata": {},
   "source": [
    "python中，通过开始索引和结束索引，可以获取数组中某一区域的元素，\n",
    "为了从矩阵中获取一个子矩阵，首先需要计算出子矩阵在母矩阵中的坐标，\n",
    "纵向开始索引vert_start,纵向结束索引vert_end\n",
    "横向开始索引horiz_start,横行结束索引horiz_end"
   ]
  },
  {
   "cell_type": "markdown",
   "metadata": {},
   "source": [
    "<img src=\"images/vert_horiz_kiank.png\" style=\"width:400px;height:300px;\">\n",
    "<caption><center> <u> <font color='purple'> **图 3** </u><font color='purple'>  : **定位子矩阵** <br> </center></caption>"
   ]
  },
  {
   "cell_type": "markdown",
   "metadata": {},
   "source": [
    "### 计算输出矩阵的维度"
   ]
  },
  {
   "cell_type": "markdown",
   "metadata": {},
   "source": [
    "$$ n_H = \\lfloor \\frac{n_{H_{prev}} - f + 2 \\times pad}{stride} \\rfloor +1 $$\n",
    "$$ n_W = \\lfloor \\frac{n_{W_{prev}} - f + 2 \\times pad}{stride} \\rfloor +1 $$\n",
    "$$ n_C = \\text{这个是过滤器的个数}$$"
   ]
  },
  {
   "cell_type": "code",
   "execution_count": 19,
   "metadata": {},
   "outputs": [],
   "source": [
    "def conv_forward(A_prev, W, b, hparameters):\n",
    "    \"\"\"\n",
    "    实现卷积网络的前向传播\n",
    "    \n",
    "    参数：\n",
    "    A_prev -- 本层的输入矩阵，也就是上一层的输出矩阵。\n",
    "           -- 维度是（m, n_H_prev, n_W_prev, n_C_prev）\n",
    "    W -- 权重，也就是过滤器。维度是（f, f, n_C_prev, n_C），n_C表示过滤器的个数\n",
    "    b -- 阈值，维度是（1，1，1，n_C）。一个过滤器一个阈值\n",
    "    hparameters -- 数组参数步长stride数s和padding数p\n",
    "    \n",
    "    返回值：\n",
    "    Z -- 输出矩阵，也就是卷积结果。维度是（m, n_H, n_W, n_C）\n",
    "    cache -- 缓存一些数值， 以供反向传播时用\n",
    "    \"\"\"\n",
    "    \n",
    "    (m, n_H_prev, n_W_prev, n_C_prev) = A_prev.shape\n",
    "    \n",
    "    (f, f, n_C_prev, n_C) = W.shape\n",
    "\n",
    "    stride = hparameters['stride'] # 步长s\n",
    "    pad = hparameters['pad'] # 填补数量p\n",
    "    \n",
    "    # 计算输出矩阵的维度。参考上面提供的公式    \n",
    "    n_H = int((n_H_prev - f + 2 * pad) / stride) + 1 # 使用int()来实现向下取整\n",
    "    n_W = int((n_W_prev - f + 2 * pad) / stride) + 1\n",
    "    \n",
    "    # 初始化输出矩阵\n",
    "    Z = np.zeros((m, n_H, n_W, n_C))\n",
    "    \n",
    "    # 给输入矩阵进行padding填补0\n",
    "    A_prev_pad = zero_pad(A_prev, pad)\n",
    "    \n",
    "    for i in range(m):                                 # 遍历每一个样本\n",
    "        a_prev_pad = A_prev_pad[i]                     # 取出一个样本对应的输入矩阵\n",
    "        for h in range(n_H):                           # 遍历输出矩阵的高\n",
    "            for w in range(n_W):                       # 遍历输出矩阵的宽\n",
    "                for c in range(n_C):                   # 遍历每一个过滤器\n",
    "                    # 计算出输入矩阵中本次应该卷积的区域的索引，然后通过这些索引取出将被卷积的小块数据。\n",
    "                    vert_start = h * stride\n",
    "                    vert_end = vert_start + f\n",
    "                    horiz_start = w * stride\n",
    "                    horiz_end = horiz_start + f\n",
    "                    a_slice_prev = a_prev_pad[vert_start:vert_end, horiz_start:horiz_end, :]\n",
    "                    # 利用之前我们实现的conv_single_step函数来对这块数据进行卷积。\n",
    "                    Z[i, h, w, c] = conv_single_step(a_slice_prev, W[...,c], b[...,c])\n",
    "                                        \n",
    "    assert(Z.shape == (m, n_H, n_W, n_C))\n",
    " \n",
    "    cache = (A_prev, W, b, hparameters)\n",
    "    \n",
    "    return Z, cache"
   ]
  },
  {
   "cell_type": "code",
   "execution_count": 20,
   "metadata": {},
   "outputs": [
    {
     "name": "stdout",
     "output_type": "stream",
     "text": [
      "Z's mean =  0.15585932488906465\n",
      "cache_conv[0][1][2][3] =  [-0.20075807  0.18656139  0.41005165]\n"
     ]
    }
   ],
   "source": [
    "#单元测试\n",
    "np.random.seed(1)\n",
    "A_prev = np.random.randn(10, 4, 4, 3)\n",
    "W = np.random.randn(2, 2, 3, 8)\n",
    "b = np.random.randn(1, 1, 1, 8)\n",
    "hparameters = {'pad' : 2,\n",
    "               'stride' : 1}\n",
    "\n",
    "Z, cache_conv = conv_forward(A_prev, W, b, hparameters)\n",
    "print(\"Z's mean = \",np.mean(Z))\n",
    "print(\"cache_conv[0][1][2][3] = \",cache_conv[0][1][2][3])"
   ]
  },
  {
   "cell_type": "code",
   "execution_count": null,
   "metadata": {},
   "outputs": [],
   "source": []
  }
 ],
 "metadata": {
  "kernelspec": {
   "display_name": "Python 3",
   "language": "python",
   "name": "python3"
  },
  "language_info": {
   "codemirror_mode": {
    "name": "ipython",
    "version": 3
   },
   "file_extension": ".py",
   "mimetype": "text/x-python",
   "name": "python",
   "nbconvert_exporter": "python",
   "pygments_lexer": "ipython3",
   "version": "3.7.4"
  }
 },
 "nbformat": 4,
 "nbformat_minor": 2
}
